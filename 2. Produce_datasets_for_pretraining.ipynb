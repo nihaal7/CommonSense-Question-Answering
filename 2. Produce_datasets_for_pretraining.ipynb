{
  "nbformat": 4,
  "nbformat_minor": 0,
  "metadata": {
    "colab": {
      "name": "Produce datasets for pretraining.ipynb",
      "provenance": [],
      "collapsed_sections": []
    },
    "kernelspec": {
      "name": "python3",
      "display_name": "Python 3"
    },
    "language_info": {
      "name": "python"
    }
  },
  "cells": [
    {
      "cell_type": "code",
      "execution_count": null,
      "metadata": {
        "id": "Js4qGMn9EAWF"
      },
      "outputs": [],
      "source": [
        "import pandas as pd\n",
        "from pprint import pprint\n",
        "import json\n",
        "import random"
      ]
    },
    {
      "cell_type": "code",
      "source": [
        "root = '/content/drive/MyDrive/DL_NLP/data/'\n",
        "#file_paths = ['ARC-Challenge-Train.jsonl','ARC-Challenge-Dev.jsonl','ARC-Challenge-Test.jsonl','ARC-Easy-Dev.jsonl','ARC-Easy-Test.jsonl','ARC-Easy-Train.jsonl','common_sense_train.jsonl','dev_rand_split.jsonl']\n",
        "file_paths = ['ARC-Easy-Train.jsonl','common_sense_train.jsonl','dev_rand_split.jsonl']\n",
        "for i in range(len(file_paths)):\n",
        "  file_paths[i] = root + file_paths[i]\n",
        "output_file_path = 'cleaned_ARC_CommonSense.jsonl'"
      ],
      "metadata": {
        "id": "vudrs5WLHT_x"
      },
      "execution_count": null,
      "outputs": []
    },
    {
      "cell_type": "code",
      "source": [
        "dic = {}\n",
        "dic['id'] = 'asdas'\n",
        "dic_question = {}\n",
        "dic_question['stem'] = 'asdsad'\n",
        "dic_choices = [0] * 4\n",
        "dic_choices[0] ={'text':'ada','label':'A'}\n",
        "dic_choices[1] ={'text':'ada','label':'B'}\n",
        "dic_choices[2] ={'text':'ada','label':'C'}\n",
        "dic_choices[3] ={'text':'ada','label':'D'}\n",
        "dic_question['choices'] = dic_choices\n",
        "dic['question'] = dic_question\n",
        "dic['fact1'] = ''\n",
        "dic['humanScore'] = '1.00'\n",
        "dic['clarity'] = '2.00'\n",
        "dic['turkIdAnonymized'] = 'sadasdasda'\n",
        "dic['answerKey'] = 'D'\n",
        "mcq = {0: \"A\", 1:\"B\", 2:\"C\",3:\"D\",4:\"E\", '0' : 'A','1' : 'B','2' : 'C','3' : 'D','4':\"E\"}"
      ],
      "metadata": {
        "id": "rkVWBb9HEbXf"
      },
      "execution_count": null,
      "outputs": []
    },
    {
      "cell_type": "code",
      "source": [
        "fout = open(output_file_path,'wt')\n",
        "for file_path in file_paths:\n",
        "  with open(file_path) as json_file:\n",
        "    json_list = list(json_file)\n",
        "    for i in range(len(json_list)):\n",
        "      json_str = json_list[i]\n",
        "      result = json.loads(json_str)       \n",
        "      if len(result['question']['choices'])<4:\n",
        "        continue\n",
        "      dic['question']['stem'] = result['question']['stem']\n",
        "      dic['question']['choices'][0]['text'] = result['question']['choices'][0]['text']\n",
        "      dic['question']['choices'][1]['text'] = result['question']['choices'][1]['text']\n",
        "      dic['question']['choices'][2]['text'] = result['question']['choices'][2]['text']\n",
        "      dic['question']['choices'][3]['text'] = result['question']['choices'][3]['text']\n",
        "      dic['answerKey'] = result['answerKey']\n",
        "      if dic['answerKey'] not in ('A','B','C','D','E'):\n",
        "        continue #comment this\n",
        "        dic['answerKey'] = mcq[dic['answerKey']]\n",
        "      if  dic['answerKey'] == 'E':\n",
        "        new_answer_choice = random.randint(0,3)\n",
        "        dic['question']['choices'][new_answer_choice]['text'] = result['question']['choices'][4]['text']\n",
        "        dic['answerKey'] = mcq[new_answer_choice]\n",
        "      fout.write('%s\\n' % json.dumps(dic))\n",
        "fout.close()"
      ],
      "metadata": {
        "id": "lYRtVoIWIeyZ"
      },
      "execution_count": null,
      "outputs": []
    }
  ]
}